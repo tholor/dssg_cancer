{
 "cells": [
  {
   "cell_type": "code",
   "execution_count": 1,
   "metadata": {
    "collapsed": false,
    "deletable": true,
    "editable": true
   },
   "outputs": [
    {
     "name": "stdout",
     "output_type": "stream",
     "text": [
      "[nltk_data] Downloading package stopwords to /home/jovyan/nltk_data...\n",
      "[nltk_data]   Package stopwords is already up-to-date!\n",
      "unfiltered data, num samples: 45885 with num features: 22\n",
      "filtered data with samples: 45885\n"
     ]
    }
   ],
   "source": [
    "import pandas as pd\n",
    "import numpy as np\n",
    "import time\n",
    "import datetime\n",
    "\n",
    "import nltk\n",
    "nltk.download('stopwords')\n",
    "from nltk.corpus import stopwords\n",
    "import sklearn as sk\n",
    "from matplotlib import pyplot as plt\n",
    "from scipy.sparse import csr_matrix\n",
    "import scipy as sp\n",
    "import re\n",
    "import gensim\n",
    "import logging\n",
    "import seaborn as sns\n",
    "#logging.basicConfig(format='%(asctime)s : %(levelname)s : %(message)s', level=logging.INFO)\n",
    "%matplotlib inline\n",
    "#import xgboost\n",
    "from sklearn.feature_extraction.text import CountVectorizer\n",
    "from sklearn.decomposition import LatentDirichletAllocation\n",
    "import time\n",
    "from nltk.corpus import stopwords\n",
    "\n",
    "train = pd.read_csv(\"data/features/features.csv\",\n",
    "                    header=0,delimiter=\",\",quotechar='\"',error_bad_lines=False)\n",
    "\n",
    "print(\"unfiltered data, num samples: %i with num features: %i\" %(train.shape[0],train.shape[1]))\n",
    "\n",
    "train.fillna(' ',inplace=True)\n",
    "train.dropna(inplace=True)\n",
    "print(\"filtered data with samples: %i\" %(train.shape[0]))"
   ]
  },
  {
   "cell_type": "code",
   "execution_count": 46,
   "metadata": {
    "collapsed": false,
    "deletable": true,
    "editable": true
   },
   "outputs": [
    {
     "data": {
      "text/plain": [
       "['num',\n",
       " 'record-number',\n",
       " 'filename',\n",
       " 'pdfismissing',\n",
       " 'author',\n",
       " 'fulltitle',\n",
       " 'subtitle',\n",
       " 'pages',\n",
       " 'volume',\n",
       " 'number',\n",
       " 'keywords',\n",
       " 'searchquery_terms',\n",
       " 'classifications',\n",
       " 'cancer_types',\n",
       " 'label_top_level',\n",
       " 'useful',\n",
       " 'review_article',\n",
       " 'not_allowed_in_germany',\n",
       " 'year',\n",
       " 'abstract',\n",
       " 'pub-location',\n",
       " 'publisher']"
      ]
     },
     "execution_count": 46,
     "metadata": {},
     "output_type": "execute_result"
    }
   ],
   "source": [
    "list(train)\n"
   ]
  },
  {
   "cell_type": "code",
   "execution_count": 2,
   "metadata": {
    "collapsed": false,
    "deletable": true,
    "editable": true
   },
   "outputs": [],
   "source": [
    "#y labels\n",
    "useful = train[\"useful\"]\n",
    "\n",
    "#features\n",
    "abstracts = train['abstract'].values.astype(dtype=str)\n",
    "title = train['fulltitle'].values.astype(dtype=str)\n",
    "journal = train['subtitle'].values.astype(dtype=str)\n",
    "\n",
    "#only rows with abstract\n",
    "idxthere = np.nonzero(train['abstract'] != ' ')[0]\n",
    "title = title[idxthere]\n",
    "journal = journal[idxthere]\n",
    "abstracts = abstracts[idxthere]\n",
    "useful = useful[idxthere]"
   ]
  },
  {
   "cell_type": "code",
   "execution_count": 6,
   "metadata": {
    "collapsed": true,
    "deletable": true,
    "editable": true
   },
   "outputs": [],
   "source": [
    "journal = train['subtitle'].values.astype(dtype=str)\n",
    "journal = journal[idxthere]"
   ]
  },
  {
   "cell_type": "code",
   "execution_count": 13,
   "metadata": {
    "collapsed": false,
    "deletable": true,
    "editable": true
   },
   "outputs": [
    {
     "data": {
      "text/plain": [
       "array([ 'To assess the effects of postoperative radiation therapy and chemotherapy on tumor recurrence and patient survival, 227 patients (data on 202 of whom were analyzed) who had undergone  curative  surgical resection for rectal adenocarcinoma were prospectively and randomly assigned to one of four treatments: no adjuvant therapy (concurrent controls, 58 patients), postoperative radiotherapy with 4000 or 4800 rad (50 patients), postoperative chemotherapy (fluorouracil and semustine [methyl-CCNU], 48 patients), or a combination of radiation therapy and chemotherapy (46 patients). Five years after the entry of the last patient and with a median follow-up of all survivors for 80 months, the recurrence rate was highest among the control patients (55 per cent) and lowest among the patients receiving a combination of adjuvant radiation and chemotherapy (33 per cent). Time to tumor recurrence differed significantly among the four treatment groups (P less than 0.04); it was significantly prolonged by combined radiation and chemotherapy as compared with resection alone (P less than 0.009). Overall survival did not differ significantly among the treatment groups. The superiority of the combined-modality regimen appeared to be attributable to the effects of radiation therapy and chemotherapy in controlling local and distant recurrences, respectively. We conclude that this study provides evidence supporting the use of postoperative radiation therapy in conjunction with chemotherapy in patients who have had  curative  resection of rectal cancer with involvement of perirectal fat or regional nodes or both (Stages B2 and C).Prolongation of the disease-free interval in surgically treated rectal carcinoma. Gastrointestinal Tumor Study GroupThe New England journal of medicine[]'], \n",
       "      dtype='<U35393')"
      ]
     },
     "execution_count": 13,
     "metadata": {},
     "output_type": "execute_result"
    }
   ],
   "source": [
    "text[:1]"
   ]
  },
  {
   "cell_type": "code",
   "execution_count": 35,
   "metadata": {
    "collapsed": false,
    "deletable": true,
    "editable": true
   },
   "outputs": [],
   "source": [
    "#one hot encoded\n",
    "le = sk.preprocessing.LabelEncoder()\n",
    "enc = sk.preprocessing.OneHotEncoder()\n",
    "le_journal = le.fit_transform(journal)\n",
    "\n",
    "le_journal = le_journal.reshape(le_journal.shape[0], 1)\n",
    "hot_journal = enc.fit_transform(le_journal) "
   ]
  },
  {
   "cell_type": "code",
   "execution_count": 38,
   "metadata": {
    "collapsed": false,
    "deletable": true,
    "editable": true
   },
   "outputs": [],
   "source": [
    "start = time.time()\n",
    "#preprocessing\n",
    "\n",
    "#bag of words\n",
    "reRemoved = [re.sub(r'[^a-z ]', '', s.lower()) for s in abstracts]\n",
    "vect = CountVectorizer(max_df=0.6,min_df=10,stop_words=stopwords.words(\"english\"))\n",
    "bow_text = vect.fit_transform(reRemoved)\n",
    "\n",
    "reRemoved = [re.sub(r'[^a-z ]', '', s.lower()) for s in title]\n",
    "bow_title = vect.fit_transform(reRemoved)"
   ]
  },
  {
   "cell_type": "code",
   "execution_count": 48,
   "metadata": {
    "collapsed": false,
    "deletable": true,
    "editable": true
   },
   "outputs": [
    {
     "name": "stdout",
     "output_type": "stream",
     "text": [
      "<class 'scipy.sparse.csr.csr_matrix'>\n"
     ]
    }
   ],
   "source": [
    "print(type(hot_journal))"
   ]
  },
  {
   "cell_type": "code",
   "execution_count": 70,
   "metadata": {
    "collapsed": false,
    "deletable": true,
    "editable": true
   },
   "outputs": [
    {
     "name": "stdout",
     "output_type": "stream",
     "text": [
      "  (10, 368)\t1.0\n",
      "  (10, 367)\t1.0\n",
      "  (10, 366)\t1.0\n",
      "  (10, 365)\t1.0\n",
      "  (10, 364)\t1.0\n",
      "  (10, 363)\t1.0\n",
      "  (10, 362)\t1.0\n",
      "  (10, 361)\t1.0\n",
      "  (10, 360)\t1.0\n",
      "  (10, 359)\t1.0\n",
      "  (10, 358)\t1.0\n",
      "  (10, 357)\t1.0\n",
      "  (10, 356)\t1.0\n",
      "  (10, 355)\t1.0\n",
      "  (10, 354)\t1.0\n",
      "  (10, 353)\t1.0\n",
      "  (10, 352)\t1.0\n",
      "  (10, 351)\t1.0\n",
      "  (10, 350)\t1.0\n",
      "  (10, 349)\t1.0\n",
      "  (10, 348)\t1.0\n",
      "  (10, 347)\t1.0\n",
      "  (10, 346)\t1.0\n",
      "  (10, 345)\t1.0\n",
      "  (10, 344)\t1.0\n",
      "  :\t:\n",
      "  (39636, 24)\t1.0\n",
      "  (39636, 23)\t1.0\n",
      "  (39636, 22)\t1.0\n",
      "  (39636, 21)\t1.0\n",
      "  (39636, 20)\t1.0\n",
      "  (39636, 19)\t1.0\n",
      "  (39636, 18)\t1.0\n",
      "  (39636, 17)\t1.0\n",
      "  (39636, 16)\t1.0\n",
      "  (39636, 15)\t1.0\n",
      "  (39636, 14)\t1.0\n",
      "  (39636, 13)\t1.0\n",
      "  (39636, 12)\t1.0\n",
      "  (39636, 11)\t1.0\n",
      "  (39636, 10)\t1.0\n",
      "  (39636, 9)\t1.0\n",
      "  (39636, 8)\t1.0\n",
      "  (39636, 7)\t1.0\n",
      "  (39636, 6)\t1.0\n",
      "  (39636, 5)\t1.0\n",
      "  (39636, 4)\t1.0\n",
      "  (39636, 3)\t1.0\n",
      "  (39636, 2)\t1.0\n",
      "  (39636, 1)\t1.0\n",
      "  (39636, 0)\t1.0\n"
     ]
    }
   ],
   "source": [
    "#only keep journals with more than 100 occurences\n",
    "journal_count = np.sum(hot_journal, axis=0)\n",
    "idx_imp_journals = np.nonzero(journal_count > 20)[0]\n",
    "#print(idx_imp_journals.shape)\n",
    "imp_journals = hot_journal[:,idx_imp_journals]\n",
    "print(imp_journals)\n",
    "#print(idx_imp_journals)"
   ]
  },
  {
   "cell_type": "code",
   "execution_count": 71,
   "metadata": {
    "collapsed": true,
    "deletable": true,
    "editable": true
   },
   "outputs": [],
   "source": [
    "#combine features\n",
    "features = sp.sparse.hstack((bow_title, bow_text, imp_journals))\n"
   ]
  },
  {
   "cell_type": "code",
   "execution_count": 65,
   "metadata": {
    "collapsed": false,
    "deletable": true,
    "editable": true
   },
   "outputs": [
    {
     "name": "stdout",
     "output_type": "stream",
     "text": [
      "(42868, 18749)\n"
     ]
    }
   ],
   "source": [
    "print(features.shape)"
   ]
  },
  {
   "cell_type": "code",
   "execution_count": 36,
   "metadata": {
    "collapsed": false,
    "deletable": true,
    "editable": true
   },
   "outputs": [
    {
     "name": "stdout",
     "output_type": "stream",
     "text": [
      "(42868, 1)\n",
      "<class 'numpy.ndarray'>\n",
      "(42868, 4768)\n"
     ]
    },
    {
     "data": {
      "text/plain": [
       "4768"
      ]
     },
     "execution_count": 36,
     "metadata": {},
     "output_type": "execute_result"
    }
   ],
   "source": [
    "print(le_journal.shape)\n",
    "print(type(le_journal))\n",
    "print(hot_journal.shape)\n",
    "len(np.unique(le_journal))\n",
    "#print(bow_text.shape)\n",
    "#print(bow.shape)"
   ]
  },
  {
   "cell_type": "code",
   "execution_count": 72,
   "metadata": {
    "collapsed": false,
    "deletable": true,
    "editable": true
   },
   "outputs": [
    {
     "data": {
      "text/plain": [
       "XGBClassifier(base_score=0.5, colsample_bylevel=1, colsample_bytree=1,\n",
       "       gamma=0, learning_rate=0.1, max_delta_step=0, max_depth=10,\n",
       "       min_child_weight=1, missing=None, n_estimators=400, nthread=-1,\n",
       "       objective='binary:logistic', reg_alpha=0, reg_lambda=1,\n",
       "       scale_pos_weight=1, seed=0, silent=True, subsample=1)"
      ]
     },
     "execution_count": 72,
     "metadata": {},
     "output_type": "execute_result"
    }
   ],
   "source": [
    "import xgboost as xgb\n",
    "# read in data\n",
    "from sklearn.model_selection import train_test_split\n",
    "X_train, X_test, y_train, y_test = train_test_split(features, useful, test_size=0.2, random_state=42)\n",
    "\n",
    "model = xgb.XGBClassifier(max_depth=10,n_estimators=400)\n",
    "model.fit(X_train, y_train)\n"
   ]
  },
  {
   "cell_type": "code",
   "execution_count": 73,
   "metadata": {
    "collapsed": false,
    "deletable": true,
    "editable": true
   },
   "outputs": [
    {
     "name": "stdout",
     "output_type": "stream",
     "text": [
      "(8574,)\n",
      "(8574,)\n"
     ]
    },
    {
     "data": {
      "text/plain": [
       "0.81843117411110922"
      ]
     },
     "execution_count": 73,
     "metadata": {},
     "output_type": "execute_result"
    }
   ],
   "source": [
    "preds = model.predict_proba(X_test)[:,1]\n",
    "#print(preds[:10])\n",
    "print(preds.shape)\n",
    "print(y_test.shape)\n",
    "#np.mean(np.power(preds - y_test,2))\n",
    "sk.metrics.roc_auc_score(y_test,preds)"
   ]
  },
  {
   "cell_type": "code",
   "execution_count": null,
   "metadata": {
    "collapsed": true,
    "deletable": true,
    "editable": true
   },
   "outputs": [],
   "source": []
  }
 ],
 "metadata": {
  "anaconda-cloud": {},
  "kernelspec": {
   "display_name": "Python 3",
   "language": "python",
   "name": "python3"
  },
  "language_info": {
   "codemirror_mode": {
    "name": "ipython",
    "version": 3
   },
   "file_extension": ".py",
   "mimetype": "text/x-python",
   "name": "python",
   "nbconvert_exporter": "python",
   "pygments_lexer": "ipython3",
   "version": "3.5.2"
  }
 },
 "nbformat": 4,
 "nbformat_minor": 1
}
